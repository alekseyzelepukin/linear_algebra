{
 "cells": [
  {
   "cell_type": "code",
   "execution_count": 1,
   "metadata": {
    "ExecuteTime": {
     "end_time": "2019-09-15T05:27:30.230706Z",
     "start_time": "2019-09-15T05:27:30.106039Z"
    }
   },
   "outputs": [],
   "source": [
    "import numpy as np"
   ]
  },
  {
   "cell_type": "code",
   "execution_count": 2,
   "metadata": {
    "ExecuteTime": {
     "end_time": "2019-09-15T05:27:30.240680Z",
     "start_time": "2019-09-15T05:27:30.233698Z"
    }
   },
   "outputs": [],
   "source": [
    "def generate_matrix(n, m, min_value=0, max_value=9):\n",
    "    try:\n",
    "        return np.random.randint(min_value, max_value+1, (n, m))\n",
    "    except Exception as e:\n",
    "        return e\n",
    "\n",
    "def check(A, B):\n",
    "    try:\n",
    "        if len(A[0]) == len(B):\n",
    "            return True\n",
    "        else:\n",
    "            return False\n",
    "    except Exception as e:\n",
    "        print(f'Exception: {e}')\n",
    "        return False\n",
    "    "
   ]
  },
  {
   "cell_type": "markdown",
   "metadata": {},
   "source": [
    "#### __1.__ Установить, какие произведения матриц $AB$ и $BA$ определены, и найти размерности полученных матриц:\n",
    "\n",
    "   а) $A$ — матрица $4\\times 2$, $B$ — матрица $4\\times 2$;\n",
    "    \n",
    "   б) $A$ — матрица $2\\times 5$, $B$ — матрица $5\\times 3$;\n",
    "    \n",
    "   в) $A$ — матрица $8\\times 3$, $B$ — матрица $3\\times 8$;\n",
    "    \n",
    "   г) $A$ — квадратная матрица $4\\times 4$, $B$ — квадратная матрица $4\\times 4$."
   ]
  },
  {
   "cell_type": "code",
   "execution_count": 3,
   "metadata": {
    "ExecuteTime": {
     "end_time": "2019-09-15T05:27:30.257634Z",
     "start_time": "2019-09-15T05:27:30.243671Z"
    }
   },
   "outputs": [
    {
     "name": "stdout",
     "output_type": "stream",
     "text": [
      "A:\n",
      "[[1 8]\n",
      " [8 4]\n",
      " [5 3]\n",
      " [8 8]]\n",
      "\n",
      "B:\n",
      "[[3 3]\n",
      " [9 8]\n",
      " [1 6]\n",
      " [1 3]]\n",
      "\n",
      "Произведение матриц A x B не определено.\n",
      "\n",
      "Произведение матриц A x B не определено.\n",
      "\n"
     ]
    }
   ],
   "source": [
    "# а)\n",
    "\n",
    "A = generate_matrix(4, 2)\n",
    "B = generate_matrix(4, 2)\n",
    "\n",
    "print(f'A:\\n{A}\\n')\n",
    "print(f'B:\\n{B}\\n')\n",
    "\n",
    "if check(A, B):\n",
    "    print(f'A x B:\\n{np.dot(A, B)}\\n')\n",
    "else:\n",
    "    print('Произведение матриц A x B не определено.\\n')\n",
    "    \n",
    "if check(B, A):\n",
    "    print(f'B x A:\\n{np.dot(B, A)}\\n')\n",
    "else:\n",
    "    print('Произведение матриц A x B не определено.\\n')\n",
    "    "
   ]
  },
  {
   "cell_type": "code",
   "execution_count": 4,
   "metadata": {
    "ExecuteTime": {
     "end_time": "2019-09-15T05:27:30.272594Z",
     "start_time": "2019-09-15T05:27:30.259628Z"
    }
   },
   "outputs": [
    {
     "name": "stdout",
     "output_type": "stream",
     "text": [
      "A:\n",
      "[[1 1 4 2 8]\n",
      " [2 9 0 7 4]]\n",
      "\n",
      "B:\n",
      "[[5 3 7]\n",
      " [0 8 0]\n",
      " [4 1 5]\n",
      " [2 3 0]\n",
      " [9 5 9]]\n",
      "\n",
      "A x B:\n",
      "[[ 97  61  99]\n",
      " [ 60 119  50]]\n",
      "\n",
      "Произведение матриц A x B не определено.\n",
      "\n"
     ]
    }
   ],
   "source": [
    "# б)\n",
    "\n",
    "A = generate_matrix(2, 5)\n",
    "B = generate_matrix(5, 3)\n",
    "\n",
    "print(f'A:\\n{A}\\n')\n",
    "print(f'B:\\n{B}\\n')\n",
    "\n",
    "if check(A, B):\n",
    "    print(f'A x B:\\n{np.dot(A, B)}\\n')\n",
    "else:\n",
    "    print('Произведение матриц A x B не определено.\\n')\n",
    "    \n",
    "if check(B, A):\n",
    "    print(f'B x A:\\n{np.dot(B, A)}\\n')\n",
    "else:\n",
    "    print('Произведение матриц A x B не определено.\\n')\n",
    "    "
   ]
  },
  {
   "cell_type": "code",
   "execution_count": 5,
   "metadata": {
    "ExecuteTime": {
     "end_time": "2019-09-15T05:27:30.287553Z",
     "start_time": "2019-09-15T05:27:30.274588Z"
    }
   },
   "outputs": [
    {
     "name": "stdout",
     "output_type": "stream",
     "text": [
      "A:\n",
      "[[9 7 6]\n",
      " [1 7 8]\n",
      " [1 1 6]\n",
      " [1 4 1]\n",
      " [8 5 6]\n",
      " [1 6 1]\n",
      " [5 6 1]\n",
      " [6 9 1]]\n",
      "\n",
      "B:\n",
      "[[2 5 5 4 0 5 6 3]\n",
      " [1 3 2 9 2 0 2 8]\n",
      " [8 8 6 6 3 8 3 8]]\n",
      "\n",
      "A x B:\n",
      "[[ 73 114  95 135  32  93  86 131]\n",
      " [ 73  90  67 115  38  69  44 123]\n",
      " [ 51  56  43  49  20  53  26  59]\n",
      " [ 14  25  19  46  11  13  17  43]\n",
      " [ 69 103  86 113  28  88  76 112]\n",
      " [ 16  31  23  64  15  13  21  59]\n",
      " [ 24  51  43  80  15  33  45  71]\n",
      " [ 29  65  54 111  21  38  57  98]]\n",
      "\n",
      "B x A:\n",
      "[[ 85 163 100]\n",
      " [ 97 160  73]\n",
      " [187 295 191]]\n",
      "\n"
     ]
    }
   ],
   "source": [
    "# в)\n",
    "\n",
    "A = generate_matrix(8, 3)\n",
    "B = generate_matrix(3, 8)\n",
    "\n",
    "print(f'A:\\n{A}\\n')\n",
    "print(f'B:\\n{B}\\n')\n",
    "\n",
    "if check(A, B):\n",
    "    print(f'A x B:\\n{np.dot(A, B)}\\n')\n",
    "else:\n",
    "    print('Произведение матриц A x B не определено.\\n')\n",
    "    \n",
    "if check(B, A):\n",
    "    print(f'B x A:\\n{np.dot(B, A)}\\n')\n",
    "else:\n",
    "    print('Произведение матриц A x B не определено.\\n')\n",
    "    "
   ]
  },
  {
   "cell_type": "code",
   "execution_count": 6,
   "metadata": {
    "ExecuteTime": {
     "end_time": "2019-09-15T05:27:30.298525Z",
     "start_time": "2019-09-15T05:27:30.289548Z"
    }
   },
   "outputs": [
    {
     "name": "stdout",
     "output_type": "stream",
     "text": [
      "A:\n",
      "[[6 5 6 8]\n",
      " [0 5 9 8]\n",
      " [1 2 6 3]\n",
      " [4 6 4 0]]\n",
      "\n",
      "B:\n",
      "[[8 3 6 4]\n",
      " [0 8 1 9]\n",
      " [0 3 8 4]\n",
      " [7 5 0 1]]\n",
      "\n",
      "A x B:\n",
      "[[104 116  89 101]\n",
      " [ 56 107  77  89]\n",
      " [ 29  52  56  49]\n",
      " [ 32  72  62  86]]\n",
      "\n",
      "B x A:\n",
      "[[ 70  91 127 106]\n",
      " [ 37  96 114  67]\n",
      " [ 24  55  91  48]\n",
      " [ 46  66  91  96]]\n",
      "\n"
     ]
    }
   ],
   "source": [
    "# г)\n",
    "\n",
    "A = generate_matrix(4, 4)\n",
    "B = generate_matrix(4, 4)\n",
    "\n",
    "print(f'A:\\n{A}\\n')\n",
    "print(f'B:\\n{B}\\n')\n",
    "\n",
    "if check(A, B):\n",
    "    print(f'A x B:\\n{np.dot(A, B)}\\n')\n",
    "else:\n",
    "    print('Произведение матриц A x B не определено.\\n')\n",
    "    \n",
    "if check(B, A):\n",
    "    print(f'B x A:\\n{np.dot(B, A)}\\n')\n",
    "else:\n",
    "    print('Произведение матриц A x B не определено.\\n')\n",
    "    "
   ]
  },
  {
   "cell_type": "markdown",
   "metadata": {},
   "source": [
    "#### __2.__ Найти сумму и произведение матриц $A=\\begin{pmatrix}\n",
    "1 & -2\\\\ \n",
    "3 & 0\n",
    "\\end{pmatrix}$ и $B=\\begin{pmatrix}\n",
    "4 & -1\\\\ \n",
    "0 & 5\n",
    "\\end{pmatrix}.$"
   ]
  },
  {
   "cell_type": "code",
   "execution_count": 7,
   "metadata": {
    "ExecuteTime": {
     "end_time": "2019-09-15T05:27:30.315479Z",
     "start_time": "2019-09-15T05:27:30.300519Z"
    }
   },
   "outputs": [
    {
     "name": "stdout",
     "output_type": "stream",
     "text": [
      "A:\n",
      "[[ 1 -2]\n",
      " [ 3  0]]\n",
      "\n",
      "B:\n",
      "[[ 4 -1]\n",
      " [ 0  5]]\n",
      "\n",
      "A + B:\n",
      "[[ 5 -3]\n",
      " [ 3  5]]\n",
      "\n",
      "A x B:\n",
      "[[  4 -11]\n",
      " [ 12  -3]]\n",
      "\n",
      "B x A:\n",
      "[[ 1 -8]\n",
      " [15  0]]\n",
      "\n"
     ]
    }
   ],
   "source": [
    "A = np.array([[1, -2], [3, 0]])\n",
    "B = np.array([[4, -1], [0, 5]])\n",
    "\n",
    "print(f'A:\\n{A}\\n')\n",
    "print(f'B:\\n{B}\\n')\n",
    "\n",
    "print(f'A + B:\\n{A + B}\\n')\n",
    "print(f'A x B:\\n{np.dot(A, B)}\\n')\n",
    "print(f'B x A:\\n{np.dot(B, A)}\\n')\n"
   ]
  },
  {
   "cell_type": "markdown",
   "metadata": {},
   "source": [
    "#### __3.__ Из закономерностей сложения и умножения матриц на число можно сделать вывод, что матрицы одного размера образуют линейное пространство. Вычислить линейную комбинацию $3A-2B+4C$ для матриц $A=\\begin{pmatrix}\n",
    "1 & 7\\\\ \n",
    "3 & -6\n",
    "\\end{pmatrix}$, $B=\\begin{pmatrix}\n",
    "0 & 5\\\\ \n",
    "2 & -1\n",
    "\\end{pmatrix}$, $C=\\begin{pmatrix}\n",
    "2 & -4\\\\ \n",
    "1 & 1\n",
    "\\end{pmatrix}.$"
   ]
  },
  {
   "cell_type": "code",
   "execution_count": 8,
   "metadata": {
    "ExecuteTime": {
     "end_time": "2019-09-15T05:27:30.328445Z",
     "start_time": "2019-09-15T05:27:30.318472Z"
    }
   },
   "outputs": [
    {
     "name": "stdout",
     "output_type": "stream",
     "text": [
      "A:\n",
      "[[ 1  7]\n",
      " [ 3 -6]]\n",
      "\n",
      "B:\n",
      "[[ 0  5]\n",
      " [ 2 -1]]\n",
      "\n",
      "C:\n",
      "[[ 2 -4]\n",
      " [ 1  1]]\n",
      "\n",
      "3A - 2B + 4C:\n",
      "[[ 11  -5]\n",
      " [  9 -12]]\n",
      "\n"
     ]
    }
   ],
   "source": [
    "A = np.array([[1, 7], [3, -6]])\n",
    "B = np.array([[0, 5], [2, -1]])\n",
    "C = np.array([[2, -4], [1, 1]])\n",
    "\n",
    "print(f'A:\\n{A}\\n')\n",
    "print(f'B:\\n{B}\\n')\n",
    "print(f'C:\\n{C}\\n')\n",
    "\n",
    "print(f'3A - 2B + 4C:\\n{3 * A - 2 * B + 4 * C}\\n')\n"
   ]
  },
  {
   "cell_type": "markdown",
   "metadata": {},
   "source": [
    "#### __4.__ Дана матрица $A=\\begin{pmatrix}\n",
    "4 & 1\\\\ \n",
    "5 & -2\\\\ \n",
    "2 & 3\n",
    "\\end{pmatrix}$.\n",
    "Вычислить $AA^{T}$ и $A^{T}A$."
   ]
  },
  {
   "cell_type": "code",
   "execution_count": 9,
   "metadata": {
    "ExecuteTime": {
     "end_time": "2019-09-15T05:27:30.343405Z",
     "start_time": "2019-09-15T05:27:30.330439Z"
    }
   },
   "outputs": [
    {
     "name": "stdout",
     "output_type": "stream",
     "text": [
      "A:\n",
      "[[ 4  1]\n",
      " [ 5 -2]\n",
      " [ 2  3]]\n",
      "\n",
      "A.T:\n",
      "[[ 4  5  2]\n",
      " [ 1 -2  3]]\n",
      "\n",
      "A x A.T:\n",
      "[[17 18 11]\n",
      " [18 29  4]\n",
      " [11  4 13]]\n",
      "\n",
      "A.T x A:\n",
      "[[45  0]\n",
      " [ 0 14]]\n",
      "\n"
     ]
    }
   ],
   "source": [
    "A = np.array([[4, 1], [5, -2], [2, 3]])\n",
    "\n",
    "print(f'A:\\n{A}\\n')\n",
    "print(f'A.T:\\n{A.T}\\n')\n",
    "\n",
    "print(f'A x A.T:\\n{np.dot(A, A.T)}\\n')\n",
    "print(f'A.T x A:\\n{np.dot(A.T, A)}\\n')\n"
   ]
  },
  {
   "cell_type": "markdown",
   "metadata": {},
   "source": [
    "#### __5*.__ Написать на Python функцию для перемножения двух произвольных матриц, не используя NumPy."
   ]
  },
  {
   "cell_type": "code",
   "execution_count": 10,
   "metadata": {
    "ExecuteTime": {
     "end_time": "2019-09-15T05:27:30.356371Z",
     "start_time": "2019-09-15T05:27:30.345399Z"
    }
   },
   "outputs": [],
   "source": [
    "def generate_array(n, m, min_value=0, max_value=9):\n",
    "    try:\n",
    "        return [[np.random.randint(min_value, max_value+1) for _ in range(m)] for _ in range(n)]\n",
    "    except Exception as e:\n",
    "        return e\n",
    "\n",
    "def matrix_product(A, B):\n",
    "    try:\n",
    "        C = generate_array(len(A), len(B[0]), 0, 0)\n",
    "        for i in range(len(A)):  \n",
    "            for j in range(len(B[0])): \n",
    "                for k in range(len(B)): \n",
    "                    C[i][j] += A[i][k] * B[k][j]\n",
    "        return C\n",
    "    except Exception as e:\n",
    "        return e\n"
   ]
  },
  {
   "cell_type": "code",
   "execution_count": 11,
   "metadata": {
    "ExecuteTime": {
     "end_time": "2019-09-15T05:27:30.370333Z",
     "start_time": "2019-09-15T05:27:30.359363Z"
    }
   },
   "outputs": [
    {
     "name": "stdout",
     "output_type": "stream",
     "text": [
      "A:\n",
      "[[0, 4, 8, 2], [3, 7, 4, 6]]\n",
      "\n",
      "B:\n",
      "[[8, 4], [9, 7], [7, 7], [1, 4]]\n",
      "\n",
      "Trial(A x B):\n",
      "[[94, 92], [121, 113]]\n",
      "\n",
      "Check(A x B):\n",
      "[[ 94  92]\n",
      " [121 113]]\n",
      "\n"
     ]
    }
   ],
   "source": [
    "n, m, k = 2, 4, 2\n",
    "\n",
    "A = generate_array(n, m)\n",
    "B = generate_array(m, k)\n",
    "\n",
    "print(f'A:\\n{A}\\n')\n",
    "print(f'B:\\n{B}\\n')\n",
    "\n",
    "if check(A, B):\n",
    "    print(f'Trial(A x B):\\n{matrix_product(A, B)}\\n')\n",
    "else:\n",
    "    print('Произведение матриц A x B не определено.\\n')\n",
    "\n",
    "if check(A, B):\n",
    "    print(f'Check(A x B):\\n{np.dot(A, B)}\\n')\n",
    "else:\n",
    "    print('Произведение матриц A x B не определено.\\n')\n"
   ]
  },
  {
   "cell_type": "code",
   "execution_count": null,
   "metadata": {},
   "outputs": [],
   "source": []
  }
 ],
 "metadata": {
  "kernelspec": {
   "display_name": "Python 3",
   "language": "python",
   "name": "python3"
  },
  "language_info": {
   "codemirror_mode": {
    "name": "ipython",
    "version": 3
   },
   "file_extension": ".py",
   "mimetype": "text/x-python",
   "name": "python",
   "nbconvert_exporter": "python",
   "pygments_lexer": "ipython3",
   "version": "3.7.3"
  }
 },
 "nbformat": 4,
 "nbformat_minor": 2
}
