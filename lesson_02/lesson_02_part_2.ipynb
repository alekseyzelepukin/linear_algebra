{
 "cells": [
  {
   "cell_type": "code",
   "execution_count": 1,
   "metadata": {
    "ExecuteTime": {
     "end_time": "2019-09-15T11:02:55.378006Z",
     "start_time": "2019-09-15T11:02:55.268298Z"
    }
   },
   "outputs": [],
   "source": [
    "import numpy as np\n",
    "import math\n",
    "import copy"
   ]
  },
  {
   "cell_type": "code",
   "execution_count": 2,
   "metadata": {
    "ExecuteTime": {
     "end_time": "2019-09-15T11:02:55.388980Z",
     "start_time": "2019-09-15T11:02:55.380000Z"
    }
   },
   "outputs": [],
   "source": [
    "def matrix_determinant_2x2_3x3(A):\n",
    "    try:\n",
    "        if len(A) == len(A[0]):\n",
    "            if len(A) == 2:\n",
    "                det = A[0][0] * A[1][1] - A[0][1] * A[1][0]\n",
    "                return det\n",
    "            elif len(A) == 3:\n",
    "                det = (\n",
    "                    A[0][0] * A[1][1] * A[2][2] +\n",
    "                    A[0][1] * A[1][2] * A[2][0] +\n",
    "                    A[0][2] * A[1][0] * A[2][1] -\n",
    "                    A[0][2] * A[1][1] * A[2][0] -\n",
    "                    A[0][1] * A[1][0] * A[2][2] -\n",
    "                    A[0][0] * A[1][2] * A[2][1]\n",
    "                )\n",
    "                return det\n",
    "            else:\n",
    "                return 'Only 2x2 or 3x3 matricies'\n",
    "        else:\n",
    "            return 'Determinant is not defined'\n",
    "    except Exception as e:\n",
    "        return e\n",
    "    "
   ]
  },
  {
   "cell_type": "markdown",
   "metadata": {},
   "source": [
    "#### __1.__ Вычислить определитель:\n",
    "\n",
    "   a)\n",
    "\n",
    "$$\\begin{vmatrix}\n",
    "sinx & -cosx\\\\ \n",
    "cosx & sinx\n",
    "\\end{vmatrix};$$\n",
    "\n",
    "   б)\n",
    "    \n",
    "$$\\begin{vmatrix}\n",
    "4 & 2 & 3\\\\ \n",
    "0 & 5 & 1\\\\ \n",
    "0 & 0 & 9\n",
    "\\end{vmatrix};$$\n",
    "    \n",
    "   в)\n",
    "\n",
    "$$\\begin{vmatrix}\n",
    "1 & 2 & 3\\\\ \n",
    "4 & 5 & 6\\\\ \n",
    "7 & 8 & 9\n",
    "\\end{vmatrix}.$$"
   ]
  },
  {
   "cell_type": "code",
   "execution_count": 3,
   "metadata": {
    "ExecuteTime": {
     "end_time": "2019-09-15T11:02:55.406928Z",
     "start_time": "2019-09-15T11:02:55.390971Z"
    }
   },
   "outputs": [
    {
     "name": "stdout",
     "output_type": "stream",
     "text": [
      "A:\n",
      "[[ 0.70710678 -0.70710678]\n",
      " [ 0.70710678  0.70710678]]\n",
      "\n",
      "Trial(det(A)): 1.0000000000000002\n",
      "\n",
      "Check(det(A)): 1.0\n",
      "\n"
     ]
    }
   ],
   "source": [
    "# а)\n",
    "\n",
    "x = math.pi / 4\n",
    "\n",
    "A = np.array([[math.sin(x), -math.cos(x)], [math.cos(x), math.sin(x)]])\n",
    "\n",
    "print(f'A:\\n{A}\\n')\n",
    "\n",
    "print(f'Trial(det(A)): {matrix_determinant_2x2_3x3(A)}\\n')\n",
    "\n",
    "print(f'Check(det(A)): {np.linalg.det(A)}\\n')"
   ]
  },
  {
   "cell_type": "code",
   "execution_count": 4,
   "metadata": {
    "ExecuteTime": {
     "end_time": "2019-09-15T11:02:55.416901Z",
     "start_time": "2019-09-15T11:02:55.408923Z"
    }
   },
   "outputs": [
    {
     "name": "stdout",
     "output_type": "stream",
     "text": [
      "A:\n",
      "[[4 2 3]\n",
      " [0 5 1]\n",
      " [0 0 9]]\n",
      "\n",
      "Trial(det(A)): 180\n",
      "\n",
      "Check(det(A)): 180.0\n",
      "\n"
     ]
    }
   ],
   "source": [
    "# б)\n",
    "\n",
    "A = np.array([[4, 2, 3], [0, 5, 1], [0, 0, 9]])\n",
    "\n",
    "print(f'A:\\n{A}\\n')\n",
    "\n",
    "print(f'Trial(det(A)): {matrix_determinant_2x2_3x3(A)}\\n')\n",
    "\n",
    "print(f'Check(det(A)): {np.linalg.det(A)}\\n')"
   ]
  },
  {
   "cell_type": "code",
   "execution_count": 5,
   "metadata": {
    "ExecuteTime": {
     "end_time": "2019-09-15T11:02:55.429881Z",
     "start_time": "2019-09-15T11:02:55.418895Z"
    }
   },
   "outputs": [
    {
     "name": "stdout",
     "output_type": "stream",
     "text": [
      "A:\n",
      "[[1 2 3]\n",
      " [4 5 6]\n",
      " [7 8 9]]\n",
      "\n",
      "Trial(det(A)): 0\n",
      "\n",
      "Check(det(A)): -9.51619735392994e-16\n",
      "\n"
     ]
    }
   ],
   "source": [
    "# в)\n",
    "\n",
    "A = np.array([[1, 2, 3], [4, 5, 6], [7, 8, 9]])\n",
    "\n",
    "print(f'A:\\n{A}\\n')\n",
    "\n",
    "print(f'Trial(det(A)): {matrix_determinant_2x2_3x3(A)}\\n')\n",
    "\n",
    "print(f'Check(det(A)): {np.linalg.det(A)}\\n')"
   ]
  },
  {
   "cell_type": "markdown",
   "metadata": {},
   "source": [
    "#### __2.__ Определитель матрицы $A$ равен $4$. Найти:\n",
    "\n",
    "   а) $det(A^{2})$;\n",
    "    \n",
    "   б) $det(A^{T})$;\n",
    "    \n",
    "   в) $det(2A)$."
   ]
  },
  {
   "cell_type": "code",
   "execution_count": 6,
   "metadata": {
    "ExecuteTime": {
     "end_time": "2019-09-15T11:02:55.440837Z",
     "start_time": "2019-09-15T11:02:55.431861Z"
    }
   },
   "outputs": [
    {
     "name": "stdout",
     "output_type": "stream",
     "text": [
      "A:\n",
      "[[ 1 -2]\n",
      " [ 1  2]]\n",
      "\n",
      "det(A): 4.0\n",
      "\n"
     ]
    }
   ],
   "source": [
    "A = np.array([[1, -2], [1, 2]])\n",
    "\n",
    "print(f'A:\\n{A}\\n')\n",
    "print(f'det(A): {np.linalg.det(A)}\\n')"
   ]
  },
  {
   "cell_type": "markdown",
   "metadata": {},
   "source": [
    "а) $det(A^{2})$:\n",
    "\n",
    "$det(A) = 4$<br>\n",
    "\n",
    "$A^{2}$ = $A x A$<br>\n",
    "$det(A x B)$ = $det(A) * det(B)$<br>\n",
    "$det(A^{2})$ = $det(A x A)$ = $det(A) * det(A)$<br>\n",
    "$det(A^{2})$ = $4 * 4$ = $16$<br>"
   ]
  },
  {
   "cell_type": "code",
   "execution_count": 7,
   "metadata": {
    "ExecuteTime": {
     "end_time": "2019-09-15T11:02:55.452805Z",
     "start_time": "2019-09-15T11:02:55.442832Z"
    }
   },
   "outputs": [
    {
     "name": "stdout",
     "output_type": "stream",
     "text": [
      "A:\n",
      "[[ 1 -2]\n",
      " [ 1  2]]\n",
      "\n",
      "det(A): 4.0\n",
      "\n",
      "A^2:\n",
      "[[-1 -6]\n",
      " [ 3  2]]\n",
      "\n",
      "det(A^2): 16.000000000000007\n",
      "\n"
     ]
    }
   ],
   "source": [
    "print(f'A:\\n{A}\\n')\n",
    "print(f'det(A): {np.linalg.det(A)}\\n')\n",
    "print(f'A^2:\\n{np.dot(A, A)}\\n')\n",
    "print(f'det(A^2): {np.linalg.det(np.dot(A, A))}\\n')"
   ]
  },
  {
   "cell_type": "markdown",
   "metadata": {},
   "source": [
    "б) $det(A^{T})$:\n",
    "\n",
    "$det(A) = 4$<br>\n",
    "\n",
    "$det(A)$ = $det(A^{T})$<br>\n",
    "$det(A^{T})$ = $det(A)$ = $4$<br>"
   ]
  },
  {
   "cell_type": "code",
   "execution_count": 8,
   "metadata": {
    "ExecuteTime": {
     "end_time": "2019-09-15T11:02:55.465771Z",
     "start_time": "2019-09-15T11:02:55.456795Z"
    }
   },
   "outputs": [
    {
     "name": "stdout",
     "output_type": "stream",
     "text": [
      "A:\n",
      "[[ 1 -2]\n",
      " [ 1  2]]\n",
      "\n",
      "det(A): 4.0\n",
      "\n",
      "A:\n",
      "[[ 1  1]\n",
      " [-2  2]]\n",
      "\n",
      "det(A.T): 4.0\n",
      "\n"
     ]
    }
   ],
   "source": [
    "print(f'A:\\n{A}\\n')\n",
    "print(f'det(A): {np.linalg.det(A)}\\n')\n",
    "print(f'A:\\n{A.T}\\n')\n",
    "print(f'det(A.T): {np.linalg.det(A.T)}\\n')"
   ]
  },
  {
   "cell_type": "markdown",
   "metadata": {
    "ExecuteTime": {
     "end_time": "2019-09-14T07:56:47.058265Z",
     "start_time": "2019-09-14T07:56:47.049286Z"
    }
   },
   "source": [
    "в) $det(2A)$:\n",
    "\n",
    "$det(A) = 4$<br>\n",
    "\n",
    "$det(kA)$ = $k^{n}det(A)$, где n - кол-во строк (столбцов) квадратной матрицы A размера n x n<br>\n",
    "$det(2A)$ = $k^{n}det(A)$ = $2^{n} * 4$ = $2^{n+2}$<br>"
   ]
  },
  {
   "cell_type": "code",
   "execution_count": 9,
   "metadata": {
    "ExecuteTime": {
     "end_time": "2019-09-15T11:02:55.476751Z",
     "start_time": "2019-09-15T11:02:55.467765Z"
    }
   },
   "outputs": [
    {
     "name": "stdout",
     "output_type": "stream",
     "text": [
      "A:\n",
      "[[ 1 -2]\n",
      " [ 1  2]]\n",
      "\n",
      "det(A): 4.0\n",
      "\n",
      "2A:\n",
      "[[ 2 -4]\n",
      " [ 2  4]]\n",
      "\n",
      "det(2A): 16\n",
      "\n",
      "det(2A): 15.999999999999998\n",
      "\n"
     ]
    }
   ],
   "source": [
    "print(f'A:\\n{A}\\n')\n",
    "print(f'det(A): {np.linalg.det(A)}\\n')\n",
    "print(f'2A:\\n{np.dot(2, A)}\\n')\n",
    "print(f'det(2A): {2**(A.shape[0] + 2)}\\n')\n",
    "print(f'det(2A): {np.linalg.det(2 * A)}\\n')"
   ]
  },
  {
   "cell_type": "markdown",
   "metadata": {},
   "source": [
    "#### __3.__  Доказать, что матрица\n",
    "\n",
    "$$\\begin{pmatrix}\n",
    "-2 & 7 & -3\\\\ \n",
    "4 & -14 & 6\\\\ \n",
    "-3 & 7 & 13\n",
    "\\end{pmatrix}$$\n",
    "   \n",
    "вырожденная."
   ]
  },
  {
   "cell_type": "markdown",
   "metadata": {},
   "source": [
    "1) Если $det(A) = 0$, то матрица A вырождена.<br>\n",
    "2) Если, как минимум, две строки матрицы A линейно зависимы, то матрица A вырождена.<br>"
   ]
  },
  {
   "cell_type": "code",
   "execution_count": 10,
   "metadata": {
    "ExecuteTime": {
     "end_time": "2019-09-15T11:02:55.487712Z",
     "start_time": "2019-09-15T11:02:55.478736Z"
    }
   },
   "outputs": [
    {
     "name": "stdout",
     "output_type": "stream",
     "text": [
      "A:\n",
      "[[ -2   7  -3]\n",
      " [  4 -14   6]\n",
      " [ -3   7  13]]\n",
      "\n"
     ]
    }
   ],
   "source": [
    "A = np.array([[-2, 7, -3], [4, -14, 6], [-3, 7, 13]])\n",
    "\n",
    "print(f'A:\\n{A}\\n')"
   ]
  },
  {
   "cell_type": "code",
   "execution_count": 11,
   "metadata": {
    "ExecuteTime": {
     "end_time": "2019-09-15T11:02:55.499680Z",
     "start_time": "2019-09-15T11:02:55.489707Z"
    }
   },
   "outputs": [
    {
     "name": "stdout",
     "output_type": "stream",
     "text": [
      "A:\n",
      "[[ -2   7  -3]\n",
      " [  4 -14   6]\n",
      " [ -3   7  13]]\n",
      "\n",
      "det(A): 0.0\n",
      "\n"
     ]
    }
   ],
   "source": [
    "# 1)\n",
    "\n",
    "print(f'A:\\n{A}\\n')\n",
    "print(f'det(A): {np.linalg.det( A)}\\n')"
   ]
  },
  {
   "cell_type": "code",
   "execution_count": 12,
   "metadata": {
    "ExecuteTime": {
     "end_time": "2019-09-15T11:02:55.514640Z",
     "start_time": "2019-09-15T11:02:55.501675Z"
    }
   },
   "outputs": [
    {
     "name": "stdout",
     "output_type": "stream",
     "text": [
      "A:\n",
      "[[ -2   7  -3]\n",
      " [  4 -14   6]\n",
      " [ -3   7  13]]\n",
      "\n",
      "Умножим первую строку матрицы A на -2:\n",
      "-2[-2  7 -3] = [  4 -14   6]\n",
      "\n",
      "В результате умножения получаем вторую строку матрицы A:\n",
      "[  4 -14   6] = [  4 -14   6]\n",
      "Вторая строка матрицы A является линейной комбинацией первой строки матрицы A.\n",
      "Первая и вторая строки матрицы A линейнозависимы.\n"
     ]
    }
   ],
   "source": [
    "# 2)\n",
    "\n",
    "print(f'A:\\n{A}\\n')\n",
    "print(f'Умножим первую строку матрицы A на -2:')\n",
    "print(f'-2{A[0]} = {A[1]}\\n')\n",
    "print(f'В результате умножения получаем вторую строку матрицы A:')\n",
    "print(f'{-2 * A[0]} = {A[1]}')\n",
    "print(f'Вторая строка матрицы A является линейной комбинацией первой строки матрицы A.')\n",
    "print(f'Первая и вторая строки матрицы A линейнозависимы.')"
   ]
  },
  {
   "cell_type": "markdown",
   "metadata": {},
   "source": [
    "#### __4.__ Найти ранг матрицы:\n",
    "\n",
    "   а) $\\begin{pmatrix}\n",
    "1 & 2 & 3\\\\ \n",
    "1 & 1 & 1\\\\ \n",
    "2 & 3 & 4\n",
    "\\end{pmatrix};$\n",
    "\n",
    "   б) $\\begin{pmatrix}\n",
    "0 & 0 & 2 & 1\\\\ \n",
    "0 & 0 & 2 & 2\\\\ \n",
    "0 & 0 & 4 & 3\\\\ \n",
    "2 & 3 & 5 & 6\n",
    "\\end{pmatrix}.$"
   ]
  },
  {
   "cell_type": "markdown",
   "metadata": {},
   "source": [
    "__Определение__\n",
    "\n",
    "_Строчным рангом матрицы_ называется максимальное число линейно независимых строк этой матрицы.\n",
    "\n",
    "_Столбцовым рангом матрицы_ называется максимальное число линейно независимых столбцов этой матрицы.\n",
    "\n",
    "__Теорема__\n",
    "\n",
    "_Строчный ранг матрицы всегда совпадает с столбцовым и равен максимальному размеру ее невырожденного минора._"
   ]
  },
  {
   "cell_type": "code",
   "execution_count": 13,
   "metadata": {
    "ExecuteTime": {
     "end_time": "2019-09-15T11:02:55.525611Z",
     "start_time": "2019-09-15T11:02:55.516634Z"
    }
   },
   "outputs": [
    {
     "name": "stdout",
     "output_type": "stream",
     "text": [
      "A:\n",
      "[[1 2 3]\n",
      " [1 1 1]\n",
      " [2 3 4]]\n",
      "\n"
     ]
    }
   ],
   "source": [
    "# а)\n",
    "\n",
    "A = np.array([[1, 2, 3], [1, 1, 1], [2, 3, 4]])\n",
    "\n",
    "print(f'A:\\n{A}\\n')"
   ]
  },
  {
   "cell_type": "code",
   "execution_count": 14,
   "metadata": {
    "ExecuteTime": {
     "end_time": "2019-09-15T11:02:55.540571Z",
     "start_time": "2019-09-15T11:02:55.527605Z"
    }
   },
   "outputs": [
    {
     "name": "stdout",
     "output_type": "stream",
     "text": [
      "A:\n",
      "[[1 2 3]\n",
      " [1 1 1]\n",
      " [2 3 4]]\n",
      "\n",
      "Сложим первую и вторую строки матрицы A:\n",
      "[1 2 3] + [1 1 1] = [2 3 4]\n",
      "\n",
      "В результате сложения получаем третью строку матрицы A:\n",
      "[2 3 4]\n",
      "\n",
      "Третья строка матрицы A является линейной комбинацией первой и второй строк матрицы A.\n",
      "rank(A): 2\n",
      "\n"
     ]
    }
   ],
   "source": [
    "print(f'A:\\n{A}\\n')\n",
    "print(f'Сложим первую и вторую строки матрицы A:')\n",
    "print(f'{A[0]} + {A[1]} = {A[0] + A[1]}\\n')\n",
    "print(f'В результате сложения получаем третью строку матрицы A:')\n",
    "print(f'{A[2]}\\n')\n",
    "print(f'Третья строка матрицы A является линейной комбинацией первой и второй строк матрицы A.')\n",
    "print(f'rank(A): 2\\n')"
   ]
  },
  {
   "cell_type": "code",
   "execution_count": 15,
   "metadata": {
    "ExecuteTime": {
     "end_time": "2019-09-15T11:02:55.553536Z",
     "start_time": "2019-09-15T11:02:55.542565Z"
    }
   },
   "outputs": [
    {
     "name": "stdout",
     "output_type": "stream",
     "text": [
      "A:\n",
      "[[1 2 3]\n",
      " [1 1 1]\n",
      " [2 3 4]]\n",
      "\n",
      "rank(A): 2\n",
      "\n"
     ]
    }
   ],
   "source": [
    "print(f'A:\\n{A}\\n')\n",
    "print(f'rank(A): {np.linalg.matrix_rank(A)}\\n')"
   ]
  },
  {
   "cell_type": "code",
   "execution_count": 16,
   "metadata": {
    "ExecuteTime": {
     "end_time": "2019-09-15T11:02:55.564506Z",
     "start_time": "2019-09-15T11:02:55.555531Z"
    }
   },
   "outputs": [
    {
     "name": "stdout",
     "output_type": "stream",
     "text": [
      "A:\n",
      "[[0 0 2 1]\n",
      " [0 0 2 2]\n",
      " [0 0 4 3]\n",
      " [2 3 5 6]]\n",
      "\n"
     ]
    }
   ],
   "source": [
    "# б)\n",
    "\n",
    "A = np.array([[0, 0, 2, 1], [0, 0, 2, 2], [0, 0, 4, 3], [2, 3, 5, 6]])\n",
    "\n",
    "print(f'A:\\n{A}\\n')"
   ]
  },
  {
   "cell_type": "code",
   "execution_count": 17,
   "metadata": {
    "ExecuteTime": {
     "end_time": "2019-09-15T11:02:55.578469Z",
     "start_time": "2019-09-15T11:02:55.566503Z"
    }
   },
   "outputs": [
    {
     "name": "stdout",
     "output_type": "stream",
     "text": [
      "A:\n",
      "[[0 0 2 1]\n",
      " [0 0 2 2]\n",
      " [0 0 4 3]\n",
      " [2 3 5 6]]\n",
      "\n",
      "Вычтем из третьей строки вторую строку A:\n",
      "[0 0 4 3] - [0 0 2 2] = [0 0 2 1]\n",
      "\n",
      "В результате вычитания получаем первую строку матрицы A:\n",
      "[0 0 2 1]\n",
      "\n",
      "Первая строка матрицы A является линейной комбинацией втрой и третьей строк матрицы A.\n",
      "rank(A): 3\n",
      "\n"
     ]
    }
   ],
   "source": [
    "print(f'A:\\n{A}\\n')\n",
    "print(f'Вычтем из третьей строки вторую строку A:')\n",
    "print(f'{A[2]} - {A[1]} = {A[2] - A[1]}\\n')\n",
    "print(f'В результате вычитания получаем первую строку матрицы A:')\n",
    "print(f'{A[0]}\\n')\n",
    "print(f'Первая строка матрицы A является линейной комбинацией втрой и третьей строк матрицы A.')\n",
    "print(f'rank(A): 3\\n')"
   ]
  },
  {
   "cell_type": "code",
   "execution_count": 18,
   "metadata": {
    "ExecuteTime": {
     "end_time": "2019-09-15T11:02:55.589440Z",
     "start_time": "2019-09-15T11:02:55.580464Z"
    }
   },
   "outputs": [
    {
     "name": "stdout",
     "output_type": "stream",
     "text": [
      "A:\n",
      "[[0 0 2 1]\n",
      " [0 0 2 2]\n",
      " [0 0 4 3]\n",
      " [2 3 5 6]]\n",
      "\n",
      "rank(A): 3\n",
      "\n"
     ]
    }
   ],
   "source": [
    "print(f'A:\\n{A}\\n')\n",
    "print(f'rank(A): {np.linalg.matrix_rank(A)}\\n')"
   ]
  },
  {
   "cell_type": "markdown",
   "metadata": {},
   "source": [
    "#### __5*.__ Написать на Python функцию для нахождения определителя матрицы размера n x n, не используя NumPy."
   ]
  },
  {
   "cell_type": "code",
   "execution_count": 19,
   "metadata": {
    "ExecuteTime": {
     "end_time": "2019-09-15T11:02:55.602405Z",
     "start_time": "2019-09-15T11:02:55.591435Z"
    }
   },
   "outputs": [],
   "source": [
    "def matrix_determinant(A):\n",
    "    try:\n",
    "        n = len(A)\n",
    "        m = len(A[0])\n",
    "\n",
    "        if n == m:            \n",
    "            if n == 2:\n",
    "                det = A[0][0] * A[1][1] - A[0][1] * A[1][0]\n",
    "                return det\n",
    "\n",
    "            norms = []\n",
    "\n",
    "            for row in A:\n",
    "                norm = 0\n",
    "                for col in row:\n",
    "                    norm += math.sqrt(math.pow(col, 2))\n",
    "                norms.append(norm)\n",
    "\n",
    "            i = 0\n",
    "            min_norm = norms[0]\n",
    "\n",
    "            for idx, norm in enumerate(norms[1:], start=1):\n",
    "                if norm < min_norm:\n",
    "                    min_norm = norm\n",
    "                    i = idx\n",
    "            \n",
    "            det = 0\n",
    "            for j in range(m):\n",
    "                M = [[col for cidx, col in enumerate(row) if cidx != j ] for ridx, row in enumerate(A) if ridx != i]\n",
    "                sign = (-1) ** ((i + 1 + j + 1) % 2)\n",
    "                det += sign * A[i][j] * matrix_determinant(M)\n",
    "                \n",
    "            return det\n",
    "        else:\n",
    "            return 'Determinant is not defined'\n",
    "    except Exception as e:\n",
    "        return e\n",
    "    "
   ]
  },
  {
   "cell_type": "code",
   "execution_count": 20,
   "metadata": {
    "ExecuteTime": {
     "end_time": "2019-09-15T11:02:55.616368Z",
     "start_time": "2019-09-15T11:02:55.604400Z"
    }
   },
   "outputs": [
    {
     "name": "stdout",
     "output_type": "stream",
     "text": [
      "A:\n",
      " [[4 2 3]\n",
      " [0 5 1]\n",
      " [0 0 9]]\n",
      "\n",
      "Trial(det(A)): 180\n",
      "Check(det(A)): 180.0\n"
     ]
    }
   ],
   "source": [
    "A = np.array([[4, 2, 3], [0, 5, 1], [0, 0, 9]])\n",
    "\n",
    "print(f'A:\\n {A}\\n')\n",
    "print(f'Trial(det(A)): {matrix_determinant(A)}')\n",
    "print(f'Check(det(A)): {np.linalg.det(A)}')"
   ]
  },
  {
   "cell_type": "code",
   "execution_count": 21,
   "metadata": {
    "ExecuteTime": {
     "end_time": "2019-09-15T11:02:55.626354Z",
     "start_time": "2019-09-15T11:02:55.618363Z"
    }
   },
   "outputs": [
    {
     "name": "stdout",
     "output_type": "stream",
     "text": [
      "A:\n",
      " [[1 2 3]\n",
      " [4 5 6]\n",
      " [7 8 9]]\n",
      "\n",
      "Trial(det(A)): 0\n",
      "Check(det(A)): -9.51619735392994e-16\n"
     ]
    }
   ],
   "source": [
    "A = np.array([[1, 2, 3], [4, 5, 6], [7, 8, 9]])\n",
    "\n",
    "print(f'A:\\n {A}\\n')\n",
    "print(f'Trial(det(A)): {matrix_determinant(A)}')\n",
    "print(f'Check(det(A)): {np.linalg.det(A)}')"
   ]
  },
  {
   "cell_type": "code",
   "execution_count": 22,
   "metadata": {
    "ExecuteTime": {
     "end_time": "2019-09-15T11:02:55.640304Z",
     "start_time": "2019-09-15T11:02:55.628335Z"
    }
   },
   "outputs": [
    {
     "name": "stdout",
     "output_type": "stream",
     "text": [
      "A:\n",
      " [[2 5 1 3]\n",
      " [4 1 7 9]\n",
      " [6 8 3 2]\n",
      " [7 8 1 4]]\n",
      "\n",
      "Trial(det(A)): 630\n",
      "Check(det(A)): 630.0000000000001\n"
     ]
    }
   ],
   "source": [
    "A = np.array([[2, 5, 1, 3], [4, 1, 7, 9], [6, 8, 3, 2], [7, 8, 1, 4]])\n",
    "\n",
    "print(f'A:\\n {A}\\n')\n",
    "print(f'Trial(det(A)): {matrix_determinant(A)}')\n",
    "print(f'Check(det(A)): {np.linalg.det(A)}')"
   ]
  },
  {
   "cell_type": "code",
   "execution_count": null,
   "metadata": {},
   "outputs": [],
   "source": []
  }
 ],
 "metadata": {
  "kernelspec": {
   "display_name": "Python 3",
   "language": "python",
   "name": "python3"
  },
  "language_info": {
   "codemirror_mode": {
    "name": "ipython",
    "version": 3
   },
   "file_extension": ".py",
   "mimetype": "text/x-python",
   "name": "python",
   "nbconvert_exporter": "python",
   "pygments_lexer": "ipython3",
   "version": "3.7.3"
  }
 },
 "nbformat": 4,
 "nbformat_minor": 2
}
